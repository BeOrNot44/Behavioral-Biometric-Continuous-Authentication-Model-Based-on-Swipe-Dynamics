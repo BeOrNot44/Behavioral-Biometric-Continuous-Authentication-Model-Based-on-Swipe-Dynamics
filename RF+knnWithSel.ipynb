{
 "cells": [
  {
   "cell_type": "code",
   "execution_count": 1,
   "metadata": {},
   "outputs": [],
   "source": [
    "#importing required libraries\n",
    "import time\n",
    "import numpy as np\n",
    "import pandas as pd\n",
    "from sklearn import metrics \n",
    "from sklearn.metrics import mean_squared_error\n",
    "from sklearn.metrics import accuracy_score\n"
   ]
  },
  {
   "cell_type": "code",
   "execution_count": 4,
   "metadata": {},
   "outputs": [
    {
     "data": {
      "text/plain": [
       "(22400, 31)"
      ]
     },
     "execution_count": 4,
     "metadata": {},
     "output_type": "execute_result"
    }
   ],
   "source": [
    "#read the csv file\n",
    "data = pd.read_csv(\"SWIPES.csv\")\n",
    "\n",
    "X = data.drop([\"subject\"],axis =1)\n",
    "y = data[\"subject\"]\n",
    "data.shape"
   ]
  },
  {
   "cell_type": "code",
   "execution_count": 5,
   "metadata": {},
   "outputs": [
    {
     "data": {
      "text/plain": [
       "((17920, 30), (17920,), (4480, 30), (4480,))"
      ]
     },
     "execution_count": 5,
     "metadata": {},
     "output_type": "execute_result"
    }
   ],
   "source": [
    "from sklearn.model_selection import train_test_split\n",
    "\n",
    "X_train, X_test, y_train, y_test = train_test_split(X, y, test_size = 0.2)\n",
    "X_train.shape, y_train.shape, X_test.shape, y_test.shape"
   ]
  },
  {
   "cell_type": "code",
   "execution_count": 5,
   "metadata": {},
   "outputs": [
    {
     "data": {
      "text/plain": [
       "RandomForestClassifier(bootstrap=True, ccp_alpha=0.0, class_weight=None,\n",
       "                       criterion='gini', max_depth=None, max_features='auto',\n",
       "                       max_leaf_nodes=None, max_samples=None,\n",
       "                       min_impurity_decrease=0.0, min_impurity_split=None,\n",
       "                       min_samples_leaf=1, min_samples_split=2,\n",
       "                       min_weight_fraction_leaf=0.0, n_estimators=100,\n",
       "                       n_jobs=None, oob_score=False, random_state=None,\n",
       "                       verbose=0, warm_start=False)"
      ]
     },
     "execution_count": 5,
     "metadata": {},
     "output_type": "execute_result"
    }
   ],
   "source": [
    "# Random Forest Classifier Model\n",
    "from sklearn.ensemble import RandomForestClassifier\n",
    "\n",
    "# instantiate the model\n",
    "forest = RandomForestClassifier(n_estimators=100)\n",
    "\n",
    "# fit the model \n",
    "forest.fit(X_train,y_train)"
   ]
  },
  {
   "cell_type": "code",
   "execution_count": 6,
   "metadata": {},
   "outputs": [],
   "source": [
    "#predicting the target value from the model for the samples\n",
    "y_train_forest = forest.predict(X_train)\n",
    "y_test_forest = forest.predict(X_test)"
   ]
  },
  {
   "cell_type": "code",
   "execution_count": 8,
   "metadata": {},
   "outputs": [
    {
     "name": "stdout",
     "output_type": "stream",
     "text": [
      "swipetype             0.100245\n",
      "directional stroke    0.061121\n",
      "tottime               0.054579\n",
      "dlist                 0.047240\n",
      "aquarts_1             0.045952\n",
      "vquarts_0             0.042983\n",
      "astd                  0.040094\n",
      "pquarts_1             0.038804\n",
      "vquarts_1             0.038508\n",
      "vmean                 0.038146\n",
      "amean                 0.036425\n",
      "vquarts_2             0.036289\n",
      "aquarts_0             0.036123\n",
      "vstd                  0.033372\n",
      "maxy                  0.031834\n",
      "areamean              0.031125\n",
      "tanangle              0.029485\n",
      "pstd                  0.025757\n",
      "areaquarts_0          0.025142\n",
      "minx                  0.023304\n",
      "areaquarts_2          0.022924\n",
      "pquarts_0             0.022869\n",
      "miny                  0.021210\n",
      "maxx                  0.020791\n",
      "pmean                 0.019685\n",
      "pquarts_2             0.019463\n",
      "eucliddist            0.018557\n",
      "areastd               0.013818\n",
      "areaquarts_1          0.013068\n",
      "aquarts_2             0.011089\n",
      "dtype: float64\n"
     ]
    }
   ],
   "source": [
    "#Results of feature importance with RF sorted in list\n",
    "\n",
    "from sklearn.metrics import confusion_matrix\n",
    "\n",
    "feature_imp = pd.Series(forest.feature_importances_,index=data.columns[0:30]).sort_values(ascending=False)\n",
    "print(feature_imp)\n",
    "###############################"
   ]
  },
  {
   "cell_type": "code",
   "execution_count": 9,
   "metadata": {},
   "outputs": [],
   "source": [
    "#persona corrlation\n",
    "from sklearn.model_selection import train_test_split\n",
    "\n",
    "# with the following function we can select highly correlated features\n",
    "# it will remove the first feature that is correlated with anything else\n",
    "# without any further insight.\n",
    "\n",
    "def correlation(dataset, threshold):\n",
    "    \n",
    "    # create a set where I will store the names of correlated columns\n",
    "    col_corr = set()\n",
    "    \n",
    "    # create the correlation matrix\n",
    "    corr_matrix = dataset.corr()\n",
    "    \n",
    "    # for each feature in the dataset (columns of the correlation matrix)\n",
    "    for i in range(len(corr_matrix.columns)):\n",
    "        \n",
    "        # check with other features\n",
    "        for j in range(i):\n",
    "            \n",
    "            # if the correlation is higher than a certain threshold\n",
    "            if abs(corr_matrix.iloc[i, j]) > threshold: # we are interested in absolute coeff value\n",
    "                \n",
    "                # print correlation, and variables examined\n",
    "                # keep in mind that the columns and rows of the dataframe are identical\n",
    "                # so we can identify the features being examned by looking for i,j\n",
    "                # in the column names\n",
    "                print(abs(corr_matrix.iloc[i, j]), corr_matrix.columns[i], corr_matrix.columns[j])\n",
    "                \n",
    "                # get the name of the correlated feature\n",
    "                colname = corr_matrix.columns[j]\n",
    "                \n",
    "                # and add it to our correlated set\n",
    "                col_corr.add(colname)\n",
    "                \n",
    "    return col_corr"
   ]
  },
  {
   "cell_type": "code",
   "execution_count": 10,
   "metadata": {},
   "outputs": [
    {
     "name": "stdout",
     "output_type": "stream",
     "text": [
      "0.8969265958024408 amean vmean\n",
      "0.9457316538489677 aquarts_0 vstd\n"
     ]
    },
    {
     "data": {
      "text/plain": [
       "2"
      ]
     },
     "execution_count": 10,
     "metadata": {},
     "output_type": "execute_result"
    }
   ],
   "source": [
    "#Rsult of persona Corr\n",
    "#select any two features corrlated 20% or more\n",
    "corr_features = correlation(X_train, 0.8)\n",
    "len(set(corr_features))"
   ]
  },
  {
   "cell_type": "code",
   "execution_count": 6,
   "metadata": {},
   "outputs": [],
   "source": [
    "#Mutual information\n",
    "# best 21 feature\n",
    "from sklearn.feature_selection import mutual_info_classif, mutual_info_regression\n",
    "\n",
    "# to select the features\n",
    "from sklearn.feature_selection import SelectKBest, SelectPercentile\n"
   ]
  },
  {
   "cell_type": "code",
   "execution_count": 7,
   "metadata": {},
   "outputs": [],
   "source": [
    "mi = mutual_info_classif(X_train, y_train)"
   ]
  },
  {
   "cell_type": "code",
   "execution_count": 22,
   "metadata": {},
   "outputs": [
    {
     "data": {
      "image/png": "[encoded data removed]",
      "text/plain": [
       "<Figure size 1440x432 with 1 Axes>"
      ]
     },
     "metadata": {
      "needs_background": "light"
     },
     "output_type": "display_data"
    }
   ],
   "source": [
    "mi = pd.Series(mi)\n",
    "mi.index = X_train.columns\n",
    "mi.sort_values(ascending=False).plot.bar(figsize=(20, 6),  color='cyan',edgecolor='pink')\n",
    "plt.ylabel('Mutual Information')\n",
    "plt.savefig('fi.png',bbox_inches='tight')"
   ]
  },
  {
   "cell_type": "code",
   "execution_count": 15,
   "metadata": {},
   "outputs": [
    {
     "data": {
      "text/plain": [
       "Index(['dlist', 'tottime', 'vmean', 'vstd', 'vquarts_1', 'amean', 'astd',\n",
       "       'aquarts_0', 'aquarts_1', 'pmean', 'pstd', 'pquarts_0', 'pquarts_1',\n",
       "       'pquarts_2', 'areamean', 'swipetype', 'directional stroke'],\n",
       "      dtype='object')"
      ]
     },
     "execution_count": 15,
     "metadata": {},
     "output_type": "execute_result"
    }
   ],
   "source": [
    "# here we will select the top 10 features\n",
    "# based on their mutual information value\n",
    "\n",
    "# select features\n",
    "sel_ = SelectKBest(mutual_info_classif, k=17).fit(X_train, y_train)\n",
    "\n",
    "# display features\n",
    "X_train.columns[sel_.get_support()]"
   ]
  },
  {
   "cell_type": "code",
   "execution_count": null,
   "metadata": {},
   "outputs": [],
   "source": []
  },
  {
   "cell_type": "code",
   "execution_count": null,
   "metadata": {},
   "outputs": [],
   "source": []
  },
  {
   "cell_type": "code",
   "execution_count": null,
   "metadata": {},
   "outputs": [],
   "source": []
  },
  {
   "cell_type": "code",
   "execution_count": null,
   "metadata": {},
   "outputs": [],
   "source": []
  },
  {
   "cell_type": "code",
   "execution_count": 67,
   "metadata": {},
   "outputs": [],
   "source": [
    "# Creating holders to store the model performance results\n",
    "Sel__Clf = []\n",
    "accuracy = []\n",
    "EER = []\n",
    "Time = []\n",
    "f1_score = []\n",
    "recall = []\n",
    "precision = []\n",
    "\n",
    "#function to call for storing the results\n",
    "def storeResults(model, a,e,l,b,c,d):\n",
    "  Sel__Clf.append(model)\n",
    "  accuracy.append(round(a, 3))\n",
    "  EER.append(e)\n",
    "  Time.append(l)\n",
    "  f1_score.append(round(b, 3))\n",
    "  recall.append(round(c, 3))\n",
    "  precision.append(round(d, 3))"
   ]
  },
  {
   "cell_type": "code",
   "execution_count": 68,
   "metadata": {},
   "outputs": [],
   "source": [
    "data = pd.read_csv(\"SWIPES.csv\")"
   ]
  },
  {
   "cell_type": "code",
   "execution_count": 69,
   "metadata": {},
   "outputs": [
    {
     "data": {
      "text/plain": [
       "'\\npmean                 0.020473\\npquarts_2             0.019653\\nmaxx                  0.019644\\neucliddist            0.019259\\nareastd               0.013834\\nareaquarts_1          0.013732\\naquarts_2             0.011585\\n'"
      ]
     },
     "execution_count": 69,
     "metadata": {},
     "output_type": "execute_result"
    }
   ],
   "source": [
    "#drop features after using feture importance\n",
    "#from 30 to 23 feature\n",
    "\n",
    "data=data.drop([\"pmean\"],axis =1)\n",
    "data=data.drop([\"pquarts_2\"],axis =1)\n",
    "data=data.drop([\"maxx\"],axis =1)\n",
    "data=data.drop([\"eucliddist\"],axis =1)\n",
    "data=data.drop([\"areastd\"],axis =1)\n",
    "data=data.drop([\"areaquarts_1\"],axis =1)\n",
    "data=data.drop([\"aquarts_2\"],axis =1)\n",
    "\"\"\"\n",
    "pmean                 0.020473\n",
    "pquarts_2             0.019653\n",
    "maxx                  0.019644\n",
    "eucliddist            0.019259\n",
    "areastd               0.013834\n",
    "areaquarts_1          0.013732\n",
    "aquarts_2             0.011585\n",
    "\"\"\""
   ]
  },
  {
   "cell_type": "code",
   "execution_count": 70,
   "metadata": {},
   "outputs": [
    {
     "data": {
      "text/plain": [
       "(22400, 24)"
      ]
     },
     "execution_count": 70,
     "metadata": {},
     "output_type": "execute_result"
    }
   ],
   "source": [
    "X = data.drop([\"subject\"],axis =1)\n",
    "y = data[\"subject\"]\n",
    "data.shape"
   ]
  },
  {
   "cell_type": "code",
   "execution_count": 71,
   "metadata": {},
   "outputs": [
    {
     "data": {
      "text/plain": [
       "((17920, 23), (17920,), (4480, 23), (4480,))"
      ]
     },
     "execution_count": 71,
     "metadata": {},
     "output_type": "execute_result"
    }
   ],
   "source": [
    "from sklearn.model_selection import train_test_split\n",
    "\n",
    "X_train, X_test, y_train, y_test = train_test_split(X, y, test_size = 0.2)\n",
    "X_train.shape, y_train.shape, X_test.shape, y_test.shape"
   ]
  },
  {
   "cell_type": "code",
   "execution_count": 72,
   "metadata": {},
   "outputs": [
    {
     "data": {
      "text/plain": [
       "(22400, 24)"
      ]
     },
     "execution_count": 72,
     "metadata": {},
     "output_type": "execute_result"
    }
   ],
   "source": [
    "data.shape"
   ]
  },
  {
   "cell_type": "code",
   "execution_count": 73,
   "metadata": {},
   "outputs": [
    {
     "data": {
      "text/plain": [
       "RandomForestClassifier(bootstrap=True, ccp_alpha=0.0, class_weight=None,\n",
       "                       criterion='gini', max_depth=None, max_features='auto',\n",
       "                       max_leaf_nodes=None, max_samples=None,\n",
       "                       min_impurity_decrease=0.0, min_impurity_split=None,\n",
       "                       min_samples_leaf=1, min_samples_split=2,\n",
       "                       min_weight_fraction_leaf=0.0, n_estimators=150,\n",
       "                       n_jobs=None, oob_score=False, random_state=None,\n",
       "                       verbose=0, warm_start=False)"
      ]
     },
     "execution_count": 73,
     "metadata": {},
     "output_type": "execute_result"
    }
   ],
   "source": [
    "# Random Forest Classifier Model\n",
    "from sklearn.ensemble import RandomForestClassifier\n",
    "\n",
    "# instantiate the model\n",
    "forest = RandomForestClassifier(n_estimators=150)\n",
    "\n",
    "# fit the model \n",
    "forest.fit(X_train,y_train)"
   ]
  },
  {
   "cell_type": "code",
   "execution_count": 74,
   "metadata": {},
   "outputs": [],
   "source": [
    "#predicting the target value from the model for the samples\n",
    "import time\n",
    "y_train_forest = forest.predict(X_train)\n",
    "start_time= time.time() \n",
    "y_test_forest = forest.predict(X_test)\n",
    "time= time.time() - start_time "
   ]
  },
  {
   "cell_type": "code",
   "execution_count": 75,
   "metadata": {},
   "outputs": [
    {
     "name": "stdout",
     "output_type": "stream",
     "text": [
      "Random Forest : Accuracy on training Data:  1.0\n",
      "Random Forest : Accuracy on test Data:  0.9966517857142857\n",
      "\n",
      "Random Forest : f1_score on training Data:  1.0\n",
      "Random Forest : f1_score on test Data:  0.9965301933526173\n",
      "\n",
      "Random Forest : Recall on training Data:  1.0\n",
      "Random Forest : Recall on test Data:  0.9965524372299586\n",
      "\n",
      "Random Forest : precision on training Data:  1.0\n",
      "Random Forest : precision on test Data:  0.9965536845252687\n"
     ]
    }
   ],
   "source": [
    "#computing the accuracy, f1_score, Recall, precision of the model performance\n",
    "\n",
    "acc_train_forest = metrics.accuracy_score(y_train,y_train_forest)\n",
    "acc_test_forest = metrics.accuracy_score(y_test,y_test_forest)\n",
    "print(\"Random Forest : Accuracy on training Data: \",acc_train_forest)\n",
    "print(\"Random Forest : Accuracy on test Data: \",acc_test_forest)\n",
    "print()\n",
    "\n",
    "f1_score_train_forest = metrics.f1_score(y_train,y_train_forest, average='macro')\n",
    "f1_score_test_forest = metrics.f1_score(y_test,y_test_forest, average='macro')\n",
    "print(\"Random Forest : f1_score on training Data: \",f1_score_train_forest)\n",
    "print(\"Random Forest : f1_score on test Data: \",f1_score_test_forest)\n",
    "print()\n",
    "\n",
    "recall_score_train_forest = metrics.recall_score(y_train,y_train_forest, average='macro')\n",
    "recall_score_test_forest = metrics.recall_score(y_test,y_test_forest, average='macro')\n",
    "print(\"Random Forest : Recall on training Data: \",recall_score_train_forest)\n",
    "print(\"Random Forest : Recall on test Data: \",recall_score_test_forest)\n",
    "print()\n",
    "\n",
    "precision_score_train_forest = metrics.precision_score(y_train,y_train_forest, average='macro')\n",
    "precision_score_test_forest = metrics.precision_score(y_test,y_test_forest, average='macro')\n",
    "print(\"Random Forest : precision on training Data: \",precision_score_train_forest)\n",
    "print(\"Random Forest : precision on test Data: \",precision_score_test_forest)\n",
    "\n",
    "EER_forest =\"{:.4f}\".format(mean_squared_error(y_test, y_test_forest))"
   ]
  },
  {
   "cell_type": "code",
   "execution_count": 76,
   "metadata": {},
   "outputs": [],
   "source": [
    "#storing the results. The below mentioned order of parameter passing is important.\n",
    "\n",
    "storeResults('RF_FI',acc_test_forest,EER_forest,time,f1_score_test_forest,\n",
    "             recall_score_train_forest,precision_score_train_forest)"
   ]
  },
  {
   "cell_type": "code",
   "execution_count": 77,
   "metadata": {},
   "outputs": [
    {
     "data": {
      "text/plain": [
       "KNeighborsClassifier(algorithm='auto', leaf_size=30, metric='minkowski',\n",
       "                     metric_params=None, n_jobs=None, n_neighbors=3, p=2,\n",
       "                     weights='uniform')"
      ]
     },
     "execution_count": 77,
     "metadata": {},
     "output_type": "execute_result"
    }
   ],
   "source": [
    "# K-Nearest Neighbors Classifier model\n",
    "from sklearn.neighbors import KNeighborsClassifier\n",
    "\n",
    "# instantiate the model\n",
    "knn = KNeighborsClassifier(n_neighbors=3)\n",
    "\n",
    "# fit the model \n",
    "knn.fit(X_train,y_train)"
   ]
  },
  {
   "cell_type": "code",
   "execution_count": 78,
   "metadata": {},
   "outputs": [],
   "source": [
    "#predicting the target value from the model for the samples\n",
    "import time\n",
    "y_train_knn = knn.predict(X_train)\n",
    "start_time= time.time()\n",
    "y_test_knn = knn.predict(X_test)\n",
    "time= time.time() - start_time "
   ]
  },
  {
   "cell_type": "code",
   "execution_count": 79,
   "metadata": {},
   "outputs": [],
   "source": [
    "#computing the accuracy,f1_score,Recall,precision of the model performance\n",
    "acc_train_knn = metrics.accuracy_score(y_train,y_train_knn)\n",
    "acc_test_knn = metrics.accuracy_score(y_test,y_test_knn)\n",
    "\n",
    "f1_score_train_knn = metrics.f1_score(y_train,y_train_knn, average='macro')\n",
    "f1_score_test_knn = metrics.f1_score(y_test,y_test_knn, average='macro')\n",
    "\n",
    "recall_score_train_knn = metrics.recall_score(y_train,y_train_knn, average='macro')\n",
    "recall_score_test_knn = metrics.recall_score(y_test,y_test_knn, average='macro')\n",
    "\n",
    "precision_score_train_knn = metrics.precision_score(y_train,y_train_knn, average='macro')\n",
    "precision_score_test_knn = metrics.precision_score(y_test,y_test_knn, average='macro')\n",
    "\n",
    "EER_knn =\"{:.4f}\".format(mean_squared_error(y_test, y_test_knn))"
   ]
  },
  {
   "cell_type": "code",
   "execution_count": 80,
   "metadata": {},
   "outputs": [],
   "source": [
    "storeResults('knn_FI',acc_test_knn,EER_knn,time,f1_score_test_knn,\n",
    "             recall_score_train_knn,precision_score_train_knn)"
   ]
  },
  {
   "cell_type": "code",
   "execution_count": null,
   "metadata": {},
   "outputs": [],
   "source": []
  },
  {
   "cell_type": "code",
   "execution_count": 81,
   "metadata": {},
   "outputs": [
    {
     "data": {
      "text/plain": [
       "'\\ncorrlated features\\n0.9177758017753822 amean vmean\\n0.9383712958815513 aquarts_0 vstd\\n'"
      ]
     },
     "execution_count": 81,
     "metadata": {},
     "output_type": "execute_result"
    }
   ],
   "source": [
    "#condigrations for RF with feature importance\n",
    "#read the csv file\n",
    "data = pd.read_csv(\"SWIPES.csv\")\n",
    "#drop features after using persona corrlation\n",
    "#from 30 to 27 feauter\n",
    "data=data.drop([\"vmean\"],axis =1)\n",
    "data=data.drop([\"vstd\"],axis =1)\n",
    "data=data.drop([\"amean\"],axis =1)\n",
    "data=data.drop([\"aquarts_0\"],axis =1)\n",
    "data.shape\n",
    "\n",
    "\"\"\"\n",
    "corrlated features\n",
    "0.9177758017753822 amean vmean\n",
    "0.9383712958815513 aquarts_0 vstd\n",
    "\"\"\""
   ]
  },
  {
   "cell_type": "code",
   "execution_count": 82,
   "metadata": {},
   "outputs": [
    {
     "data": {
      "text/plain": [
       "Index(['minx', 'miny', 'maxx', 'maxy', 'eucliddist', 'dlist', 'tanangle',\n",
       "       'tottime', 'vquarts_0', 'vquarts_1', 'vquarts_2', 'astd', 'aquarts_1',\n",
       "       'aquarts_2', 'pmean', 'pstd', 'pquarts_0', 'pquarts_1', 'pquarts_2',\n",
       "       'areamean', 'areastd', 'areaquarts_0', 'areaquarts_1', 'areaquarts_2',\n",
       "       'swipetype', 'directional stroke', 'subject'],\n",
       "      dtype='object')"
      ]
     },
     "execution_count": 82,
     "metadata": {},
     "output_type": "execute_result"
    }
   ],
   "source": [
    "X = data.drop([\"subject\"],axis =1)\n",
    "y = data[\"subject\"]\n",
    "data.shape\n",
    "data.columns"
   ]
  },
  {
   "cell_type": "code",
   "execution_count": 83,
   "metadata": {},
   "outputs": [
    {
     "data": {
      "text/plain": [
       "((17920, 26), (17920,), (4480, 26), (4480,))"
      ]
     },
     "execution_count": 83,
     "metadata": {},
     "output_type": "execute_result"
    }
   ],
   "source": [
    "from sklearn.model_selection import train_test_split\n",
    "\n",
    "X_train, X_test, y_train, y_test = train_test_split(X, y, test_size = 0.2)\n",
    "X_train.shape, y_train.shape, X_test.shape, y_test.shape"
   ]
  },
  {
   "cell_type": "code",
   "execution_count": 84,
   "metadata": {},
   "outputs": [
    {
     "data": {
      "text/plain": [
       "RandomForestClassifier(bootstrap=True, ccp_alpha=0.0, class_weight=None,\n",
       "                       criterion='gini', max_depth=None, max_features='auto',\n",
       "                       max_leaf_nodes=None, max_samples=None,\n",
       "                       min_impurity_decrease=0.0, min_impurity_split=None,\n",
       "                       min_samples_leaf=1, min_samples_split=2,\n",
       "                       min_weight_fraction_leaf=0.0, n_estimators=150,\n",
       "                       n_jobs=None, oob_score=False, random_state=None,\n",
       "                       verbose=0, warm_start=False)"
      ]
     },
     "execution_count": 84,
     "metadata": {},
     "output_type": "execute_result"
    }
   ],
   "source": [
    "# Random Forest Classifier Model\n",
    "from sklearn.ensemble import RandomForestClassifier\n",
    "\n",
    "# instantiate the model\n",
    "forest = RandomForestClassifier(n_estimators=150)\n",
    "\n",
    "# fit the model \n",
    "forest.fit(X_train,y_train)"
   ]
  },
  {
   "cell_type": "code",
   "execution_count": 85,
   "metadata": {},
   "outputs": [],
   "source": [
    "#predicting the target value from the model for the samples\n",
    "import time\n",
    "y_train_forest = forest.predict(X_train)\n",
    "start_time= time.time() \n",
    "y_test_forest = forest.predict(X_test)\n",
    "time= time.time() - start_time "
   ]
  },
  {
   "cell_type": "code",
   "execution_count": 86,
   "metadata": {},
   "outputs": [
    {
     "name": "stdout",
     "output_type": "stream",
     "text": [
      "Random Forest : Accuracy on training Data:  1.0\n",
      "Random Forest : Accuracy on test Data:  0.9959821428571428\n",
      "\n",
      "Random Forest : f1_score on training Data:  1.0\n",
      "Random Forest : f1_score on test Data:  0.996031526901062\n",
      "\n",
      "Random Forest : Recall on training Data:  1.0\n",
      "Random Forest : Recall on test Data:  0.9959873953329001\n",
      "\n",
      "Random Forest : precision on training Data:  1.0\n",
      "Random Forest : precision on test Data:  0.9961168258393559\n"
     ]
    }
   ],
   "source": [
    "#computing the accuracy, f1_score, Recall, precision of the model performance\n",
    "\n",
    "acc_train_forest = metrics.accuracy_score(y_train,y_train_forest)\n",
    "acc_test_forest = metrics.accuracy_score(y_test,y_test_forest)\n",
    "print(\"Random Forest : Accuracy on training Data: \",acc_train_forest)\n",
    "print(\"Random Forest : Accuracy on test Data: \",acc_test_forest)\n",
    "print()\n",
    "\n",
    "f1_score_train_forest = metrics.f1_score(y_train,y_train_forest, average='macro')\n",
    "f1_score_test_forest = metrics.f1_score(y_test,y_test_forest, average='macro')\n",
    "print(\"Random Forest : f1_score on training Data: \",f1_score_train_forest)\n",
    "print(\"Random Forest : f1_score on test Data: \",f1_score_test_forest)\n",
    "print()\n",
    "\n",
    "recall_score_train_forest = metrics.recall_score(y_train,y_train_forest, average='macro')\n",
    "recall_score_test_forest = metrics.recall_score(y_test,y_test_forest, average='macro')\n",
    "print(\"Random Forest : Recall on training Data: \",recall_score_train_forest)\n",
    "print(\"Random Forest : Recall on test Data: \",recall_score_test_forest)\n",
    "print()\n",
    "\n",
    "precision_score_train_forest = metrics.precision_score(y_train,y_train_forest, average='macro')\n",
    "precision_score_test_forest = metrics.precision_score(y_test,y_test_forest, average='macro')\n",
    "print(\"Random Forest : precision on training Data: \",precision_score_train_forest)\n",
    "print(\"Random Forest : precision on test Data: \",precision_score_test_forest)\n",
    "\n",
    "EER_forest =\"{:.4f}\".format(mean_squared_error(y_test, y_test_forest))"
   ]
  },
  {
   "cell_type": "code",
   "execution_count": 87,
   "metadata": {},
   "outputs": [],
   "source": [
    "#storing the results. The below mentioned order of parameter passing is important.\n",
    "\n",
    "storeResults('RF_Corr',acc_test_forest,EER_forest,time,f1_score_test_forest,\n",
    "             recall_score_train_forest,precision_score_train_forest)"
   ]
  },
  {
   "cell_type": "code",
   "execution_count": 88,
   "metadata": {},
   "outputs": [
    {
     "data": {
      "text/plain": [
       "KNeighborsClassifier(algorithm='auto', leaf_size=30, metric='minkowski',\n",
       "                     metric_params=None, n_jobs=None, n_neighbors=3, p=2,\n",
       "                     weights='uniform')"
      ]
     },
     "execution_count": 88,
     "metadata": {},
     "output_type": "execute_result"
    }
   ],
   "source": [
    "# K-Nearest Neighbors Classifier model\n",
    "from sklearn.neighbors import KNeighborsClassifier\n",
    "\n",
    "# instantiate the model\n",
    "knn = KNeighborsClassifier(n_neighbors=3)\n",
    "\n",
    "# fit the model \n",
    "knn.fit(X_train,y_train)"
   ]
  },
  {
   "cell_type": "code",
   "execution_count": 89,
   "metadata": {},
   "outputs": [],
   "source": [
    "#predicting the target value from the model for the samples\n",
    "import time\n",
    "y_train_knn = knn.predict(X_train)\n",
    "start_time= time.time()\n",
    "y_test_knn = knn.predict(X_test)\n",
    "time= time.time() - start_time "
   ]
  },
  {
   "cell_type": "code",
   "execution_count": null,
   "metadata": {},
   "outputs": [],
   "source": []
  },
  {
   "cell_type": "code",
   "execution_count": 90,
   "metadata": {},
   "outputs": [],
   "source": [
    "#computing the accuracy,f1_score,Recall,precision of the model performance\n",
    "acc_train_knn = metrics.accuracy_score(y_train,y_train_knn)\n",
    "acc_test_knn = metrics.accuracy_score(y_test,y_test_knn)\n",
    "\n",
    "f1_score_train_knn = metrics.f1_score(y_train,y_train_knn, average='macro')\n",
    "f1_score_test_knn = metrics.f1_score(y_test,y_test_knn, average='macro')\n",
    "\n",
    "recall_score_train_knn = metrics.recall_score(y_train,y_train_knn, average='macro')\n",
    "recall_score_test_knn = metrics.recall_score(y_test,y_test_knn, average='macro')\n",
    "\n",
    "precision_score_train_knn = metrics.precision_score(y_train,y_train_knn, average='macro')\n",
    "precision_score_test_knn = metrics.precision_score(y_test,y_test_knn, average='macro')\n",
    "\n",
    "EER_knn =\"{:.4f}\".format(mean_squared_error(y_test, y_test_knn))"
   ]
  },
  {
   "cell_type": "code",
   "execution_count": 91,
   "metadata": {},
   "outputs": [],
   "source": [
    "#storing the results. The below mentioned order of parameter passing is important.\n",
    "\n",
    "storeResults('Knn_Corr',acc_test_knn,EER_knn,time,f1_score_test_knn,\n",
    "             recall_score_train_knn,precision_score_train_knn)"
   ]
  },
  {
   "cell_type": "code",
   "execution_count": null,
   "metadata": {},
   "outputs": [],
   "source": []
  },
  {
   "cell_type": "code",
   "execution_count": null,
   "metadata": {},
   "outputs": [],
   "source": []
  },
  {
   "cell_type": "code",
   "execution_count": 92,
   "metadata": {},
   "outputs": [
    {
     "data": {
      "text/plain": [
       "(22400, 20)"
      ]
     },
     "execution_count": 92,
     "metadata": {},
     "output_type": "execute_result"
    }
   ],
   "source": [
    "data = pd.read_csv(\"SWIPES.csv\")\n",
    "\n",
    "# to remove the rest of the features:\n",
    "    \n",
    "data=data.drop([\"minx\"],axis =1)\n",
    "data=data.drop([\"miny\"],axis =1)\n",
    "data=data.drop([\"maxx\"],axis =1)\n",
    "data=data.drop([\"eucliddist\"],axis =1)\n",
    "data=data.drop([\"tanangle\"],axis =1)\n",
    "\n",
    "data=data.drop([\"vquarts_2\"],axis =1)\n",
    "data=data.drop([\"aquarts_2\"],axis =1)\n",
    "\n",
    "data=data.drop([\"areastd\"],axis =1)\n",
    "data=data.drop([\"areaquarts_0\"],axis =1)\n",
    "data=data.drop([\"areaquarts_1\"],axis =1)\n",
    "data=data.drop([\"areaquarts_2\"],axis =1)\n",
    "\n",
    "data.shape\n"
   ]
  },
  {
   "cell_type": "code",
   "execution_count": 93,
   "metadata": {},
   "outputs": [
    {
     "data": {
      "text/plain": [
       "(22400, 20)"
      ]
     },
     "execution_count": 93,
     "metadata": {},
     "output_type": "execute_result"
    }
   ],
   "source": [
    "X = data.drop([\"subject\"],axis =1)\n",
    "y = data[\"subject\"]\n",
    "data.shape"
   ]
  },
  {
   "cell_type": "code",
   "execution_count": 94,
   "metadata": {},
   "outputs": [
    {
     "data": {
      "text/plain": [
       "((17920, 19), (17920,), (4480, 19), (4480,))"
      ]
     },
     "execution_count": 94,
     "metadata": {},
     "output_type": "execute_result"
    }
   ],
   "source": [
    "from sklearn.model_selection import train_test_split\n",
    "\n",
    "X_train, X_test, y_train, y_test = train_test_split(X, y, test_size = 0.2)\n",
    "X_train.shape, y_train.shape, X_test.shape, y_test.shape"
   ]
  },
  {
   "cell_type": "code",
   "execution_count": 95,
   "metadata": {},
   "outputs": [
    {
     "data": {
      "text/plain": [
       "RandomForestClassifier(bootstrap=True, ccp_alpha=0.0, class_weight=None,\n",
       "                       criterion='gini', max_depth=None, max_features='auto',\n",
       "                       max_leaf_nodes=None, max_samples=None,\n",
       "                       min_impurity_decrease=0.0, min_impurity_split=None,\n",
       "                       min_samples_leaf=1, min_samples_split=2,\n",
       "                       min_weight_fraction_leaf=0.0, n_estimators=150,\n",
       "                       n_jobs=None, oob_score=False, random_state=None,\n",
       "                       verbose=0, warm_start=False)"
      ]
     },
     "execution_count": 95,
     "metadata": {},
     "output_type": "execute_result"
    }
   ],
   "source": [
    "# Random Forest Classifier Model\n",
    "from sklearn.ensemble import RandomForestClassifier\n",
    "\n",
    "# instantiate the model\n",
    "forest = RandomForestClassifier(n_estimators=150)\n",
    "\n",
    "# fit the model \n",
    "forest.fit(X_train,y_train)"
   ]
  },
  {
   "cell_type": "code",
   "execution_count": 96,
   "metadata": {},
   "outputs": [],
   "source": [
    "#predicting the target value from the model for the samples\n",
    "import time\n",
    "y_train_forest = forest.predict(X_train)\n",
    "start_time= time.time() \n",
    "y_test_forest = forest.predict(X_test)\n",
    "time= time.time() - start_time "
   ]
  },
  {
   "cell_type": "code",
   "execution_count": 97,
   "metadata": {},
   "outputs": [
    {
     "name": "stdout",
     "output_type": "stream",
     "text": [
      "Random Forest : Accuracy on training Data:  1.0\n",
      "Random Forest : Accuracy on test Data:  0.9904017857142857\n",
      "\n",
      "Random Forest : f1_score on training Data:  1.0\n",
      "Random Forest : f1_score on test Data:  0.9904586592754718\n",
      "\n",
      "Random Forest : Recall on training Data:  1.0\n",
      "Random Forest : Recall on test Data:  0.9904511226428916\n",
      "\n",
      "Random Forest : precision on training Data:  1.0\n",
      "Random Forest : precision on test Data:  0.990626034304386\n"
     ]
    }
   ],
   "source": [
    "#computing the accuracy, f1_score, Recall, precision of the model performance\n",
    "\n",
    "acc_train_forest = metrics.accuracy_score(y_train,y_train_forest)\n",
    "acc_test_forest = metrics.accuracy_score(y_test,y_test_forest)\n",
    "print(\"Random Forest : Accuracy on training Data: \",acc_train_forest)\n",
    "print(\"Random Forest : Accuracy on test Data: \",acc_test_forest)\n",
    "print()\n",
    "\n",
    "f1_score_train_forest = metrics.f1_score(y_train,y_train_forest, average='macro')\n",
    "f1_score_test_forest = metrics.f1_score(y_test,y_test_forest, average='macro')\n",
    "print(\"Random Forest : f1_score on training Data: \",f1_score_train_forest)\n",
    "print(\"Random Forest : f1_score on test Data: \",f1_score_test_forest)\n",
    "print()\n",
    "\n",
    "recall_score_train_forest = metrics.recall_score(y_train,y_train_forest, average='macro')\n",
    "recall_score_test_forest = metrics.recall_score(y_test,y_test_forest, average='macro')\n",
    "print(\"Random Forest : Recall on training Data: \",recall_score_train_forest)\n",
    "print(\"Random Forest : Recall on test Data: \",recall_score_test_forest)\n",
    "print()\n",
    "\n",
    "precision_score_train_forest = metrics.precision_score(y_train,y_train_forest, average='macro')\n",
    "precision_score_test_forest = metrics.precision_score(y_test,y_test_forest, average='macro')\n",
    "print(\"Random Forest : precision on training Data: \",precision_score_train_forest)\n",
    "print(\"Random Forest : precision on test Data: \",precision_score_test_forest)\n",
    "\n",
    "EER_forest =\"{:.4f}\".format(mean_squared_error(y_test, y_test_forest))"
   ]
  },
  {
   "cell_type": "code",
   "execution_count": 98,
   "metadata": {},
   "outputs": [],
   "source": [
    "#storing the results. The below mentioned order of parameter passing is important.\n",
    "\n",
    "storeResults('RF_MI',acc_test_forest,EER_forest,time,f1_score_test_forest,\n",
    "             recall_score_train_forest,precision_score_train_forest)"
   ]
  },
  {
   "cell_type": "code",
   "execution_count": 99,
   "metadata": {},
   "outputs": [
    {
     "data": {
      "text/plain": [
       "KNeighborsClassifier(algorithm='auto', leaf_size=30, metric='minkowski',\n",
       "                     metric_params=None, n_jobs=None, n_neighbors=3, p=2,\n",
       "                     weights='uniform')"
      ]
     },
     "execution_count": 99,
     "metadata": {},
     "output_type": "execute_result"
    }
   ],
   "source": [
    "# K-Nearest Neighbors Classifier model\n",
    "from sklearn.neighbors import KNeighborsClassifier\n",
    "\n",
    "# instantiate the model\n",
    "knn = KNeighborsClassifier(n_neighbors=3)\n",
    "\n",
    "# fit the model \n",
    "knn.fit(X_train,y_train)"
   ]
  },
  {
   "cell_type": "code",
   "execution_count": 100,
   "metadata": {},
   "outputs": [],
   "source": [
    "#predicting the target value from the model for the samples\n",
    "import time\n",
    "y_train_knn = knn.predict(X_train)\n",
    "start_time= time.time()\n",
    "y_test_knn = knn.predict(X_test)\n",
    "time= time.time() - start_time "
   ]
  },
  {
   "cell_type": "code",
   "execution_count": 101,
   "metadata": {},
   "outputs": [],
   "source": [
    "#computing the accuracy,f1_score,Recall,precision of the model performance\n",
    "acc_train_knn = metrics.accuracy_score(y_train,y_train_knn)\n",
    "acc_test_knn = metrics.accuracy_score(y_test,y_test_knn)\n",
    "\n",
    "f1_score_train_knn = metrics.f1_score(y_train,y_train_knn, average='macro')\n",
    "f1_score_test_knn = metrics.f1_score(y_test,y_test_knn, average='macro')\n",
    "\n",
    "recall_score_train_knn = metrics.recall_score(y_train,y_train_knn, average='macro')\n",
    "recall_score_test_knn = metrics.recall_score(y_test,y_test_knn, average='macro')\n",
    "\n",
    "precision_score_train_knn = metrics.precision_score(y_train,y_train_knn, average='macro')\n",
    "precision_score_test_knn = metrics.precision_score(y_test,y_test_knn, average='macro')\n",
    "\n",
    "EER_knn =\"{:.4f}\".format(mean_squared_error(y_test, y_test_knn))"
   ]
  },
  {
   "cell_type": "code",
   "execution_count": 102,
   "metadata": {},
   "outputs": [],
   "source": [
    "#storing the results. The below mentioned order of parameter passing is important.\n",
    "\n",
    "storeResults('Knn_MI',acc_test_knn,EER_knn,time,f1_score_test_knn,\n",
    "             recall_score_train_knn,precision_score_train_knn)"
   ]
  },
  {
   "cell_type": "code",
   "execution_count": 103,
   "metadata": {},
   "outputs": [],
   "source": [
    "#creating dataframe\n",
    "result = pd.DataFrame({ 'Sel__Clf' : Sel__Clf,\n",
    "                        'Accuracy' : accuracy,\n",
    "                        'EER'      : EER,\n",
    "                        'Time'     : Time,\n",
    "                        'f1_score' : f1_score,\n",
    "                        'Recall'   : recall,\n",
    "                        'Precision': precision,\n",
    "                      })"
   ]
  },
  {
   "cell_type": "code",
   "execution_count": 104,
   "metadata": {},
   "outputs": [],
   "source": [
    "#Sorting the datafram on accuracy\n",
    "sorted_result=result.sort_values(by=['Accuracy', 'f1_score'],ascending=False).reset_index(drop=True)\n"
   ]
  },
  {
   "cell_type": "code",
   "execution_count": 105,
   "metadata": {},
   "outputs": [
    {
     "data": {
      "text/html": [
       "<div>\n",
       "<style scoped>\n",
       "    .dataframe tbody tr th:only-of-type {\n",
       "        vertical-align: middle;\n",
       "    }\n",
       "\n",
       "    .dataframe tbody tr th {\n",
       "        vertical-align: top;\n",
       "    }\n",
       "\n",
       "    .dataframe thead th {\n",
       "        text-align: right;\n",
       "    }\n",
       "</style>\n",
       "<table border=\"1\" class=\"dataframe\">\n",
       "  <thead>\n",
       "    <tr style=\"text-align: right;\">\n",
       "      <th></th>\n",
       "      <th>Sel__Clf</th>\n",
       "      <th>Accuracy</th>\n",
       "      <th>EER</th>\n",
       "      <th>Time</th>\n",
       "      <th>f1_score</th>\n",
       "      <th>Recall</th>\n",
       "      <th>Precision</th>\n",
       "    </tr>\n",
       "  </thead>\n",
       "  <tbody>\n",
       "    <tr>\n",
       "      <th>0</th>\n",
       "      <td>RF_FI</td>\n",
       "      <td>0.997</td>\n",
       "      <td>1.5828</td>\n",
       "      <td>0.694351</td>\n",
       "      <td>0.997</td>\n",
       "      <td>1.000</td>\n",
       "      <td>1.000</td>\n",
       "    </tr>\n",
       "    <tr>\n",
       "      <th>1</th>\n",
       "      <td>RF_Corr</td>\n",
       "      <td>0.996</td>\n",
       "      <td>2.5627</td>\n",
       "      <td>1.167694</td>\n",
       "      <td>0.996</td>\n",
       "      <td>1.000</td>\n",
       "      <td>1.000</td>\n",
       "    </tr>\n",
       "    <tr>\n",
       "      <th>2</th>\n",
       "      <td>RF_MI</td>\n",
       "      <td>0.990</td>\n",
       "      <td>4.3520</td>\n",
       "      <td>0.533815</td>\n",
       "      <td>0.990</td>\n",
       "      <td>1.000</td>\n",
       "      <td>1.000</td>\n",
       "    </tr>\n",
       "    <tr>\n",
       "      <th>3</th>\n",
       "      <td>Knn_Corr</td>\n",
       "      <td>0.988</td>\n",
       "      <td>7.1877</td>\n",
       "      <td>5.853674</td>\n",
       "      <td>0.988</td>\n",
       "      <td>0.997</td>\n",
       "      <td>0.997</td>\n",
       "    </tr>\n",
       "    <tr>\n",
       "      <th>4</th>\n",
       "      <td>knn_FI</td>\n",
       "      <td>0.981</td>\n",
       "      <td>9.3607</td>\n",
       "      <td>4.472111</td>\n",
       "      <td>0.980</td>\n",
       "      <td>0.993</td>\n",
       "      <td>0.993</td>\n",
       "    </tr>\n",
       "    <tr>\n",
       "      <th>5</th>\n",
       "      <td>Knn_MI</td>\n",
       "      <td>0.966</td>\n",
       "      <td>16.5904</td>\n",
       "      <td>2.251314</td>\n",
       "      <td>0.966</td>\n",
       "      <td>0.988</td>\n",
       "      <td>0.988</td>\n",
       "    </tr>\n",
       "  </tbody>\n",
       "</table>\n",
       "</div>"
      ],
      "text/plain": [
       "   Sel__Clf  Accuracy      EER      Time  f1_score  Recall  Precision\n",
       "0     RF_FI     0.997   1.5828  0.694351     0.997   1.000      1.000\n",
       "1   RF_Corr     0.996   2.5627  1.167694     0.996   1.000      1.000\n",
       "2     RF_MI     0.990   4.3520  0.533815     0.990   1.000      1.000\n",
       "3  Knn_Corr     0.988   7.1877  5.853674     0.988   0.997      0.997\n",
       "4    knn_FI     0.981   9.3607  4.472111     0.980   0.993      0.993\n",
       "5    Knn_MI     0.966  16.5904  2.251314     0.966   0.988      0.988"
      ]
     },
     "execution_count": 105,
     "metadata": {},
     "output_type": "execute_result"
    }
   ],
   "source": [
    "# dispalying total result\n",
    "sorted_result"
   ]
  },
  {
   "cell_type": "code",
   "execution_count": null,
   "metadata": {},
   "outputs": [],
   "source": []
  },
  {
   "cell_type": "code",
   "execution_count": null,
   "metadata": {},
   "outputs": [],
   "source": []
  },
  {
   "cell_type": "code",
   "execution_count": null,
   "metadata": {},
   "outputs": [],
   "source": []
  },
  {
   "cell_type": "code",
   "execution_count": null,
   "metadata": {},
   "outputs": [],
   "source": []
  },
  {
   "cell_type": "code",
   "execution_count": null,
   "metadata": {},
   "outputs": [],
   "source": []
  },
  {
   "cell_type": "code",
   "execution_count": null,
   "metadata": {},
   "outputs": [],
   "source": []
  },
  {
   "cell_type": "code",
   "execution_count": null,
   "metadata": {},
   "outputs": [],
   "source": []
  },
  {
   "cell_type": "code",
   "execution_count": null,
   "metadata": {},
   "outputs": [],
   "source": []
  },
  {
   "cell_type": "code",
   "execution_count": null,
   "metadata": {},
   "outputs": [],
   "source": []
  },
  {
   "cell_type": "code",
   "execution_count": null,
   "metadata": {},
   "outputs": [],
   "source": []
  }
 ],
 "metadata": {
  "kernelspec": {
   "display_name": "Python 3",
   "language": "python",
   "name": "python3"
  },
  "language_info": {
   "codemirror_mode": {
    "name": "ipython",
    "version": 3
   },
   "file_extension": ".py",
   "mimetype": "text/x-python",
   "name": "python",
   "nbconvert_exporter": "python",
   "pygments_lexer": "ipython3",
   "version": "3.7.6"
  }
 },
 "nbformat": 4,
 "nbformat_minor": 4
}
